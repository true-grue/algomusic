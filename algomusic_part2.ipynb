{
 "cells": [
  {
   "cell_type": "code",
   "execution_count": null,
   "metadata": {
    "slideshow": {
     "slide_type": "skip"
    }
   },
   "outputs": [],
   "source": [
    "import math\n",
    "import random\n",
    "import struct\n",
    "import matplotlib.pyplot as plt\n",
    "from IPython.display import Audio, display\n",
    "import numpy as np\n",
    "import scipy.io.wavfile\n",
    "\n",
    "def show(data):\n",
    "    plt.plot(range(len(data)), data)\n",
    "    plt.show()\n",
    "\n",
    "def audio(data): display(Audio(data, rate=SR))\n",
    "\n",
    "def show2(data1, data2):\n",
    "    fig, (ax1, ax2) = plt.subplots(1, 2)\n",
    "    fig.set_size_inches(12, 4, forward=True)\n",
    "    ax1.plot(range(len(data1)), data1)\n",
    "    ax2.plot(range(len(data2)), data2)\n",
    "    plt.show()\n",
    "    \n",
    "from algomusic import *"
   ]
  },
  {
   "cell_type": "markdown",
   "metadata": {
    "slideshow": {
     "slide_type": "slide"
    }
   },
   "source": [
    "# Простые приемы звукового синтеза и алгоритмической композиции на языке Питон\n",
    "\n",
    "*Пётр Советов*, МИРЭА\n",
    "\n",
    "Часть 1. Синтез звука\n",
    "\n",
    "Часть 2. **Алгоритмическая композиция**"
   ]
  },
  {
   "cell_type": "markdown",
   "metadata": {
    "slideshow": {
     "slide_type": "slide"
    }
   },
   "source": [
    "# Алгоритмическая музыка до появления компьютеров\n",
    "\n",
    "* Китайские колокольчики.\n",
    "* Эолова арфа.\n",
    "* Музыкальная игра в кости (Моцарт и некоторые другие композиторы). \n",
    "\n",
    "<table>\n",
    "<tr>\n",
    "    <td width=\"30%\"><img src=\"img/chime.png\" width=\"50%\">\n",
    "    <td width=\"30%\"><img src=\"img/harp.png\" width=\"70%\">\n",
    "    <td><img src=\"img/mozart.png\">\n",
    "</table>\n"
   ]
  },
  {
   "cell_type": "code",
   "execution_count": null,
   "metadata": {
    "scrolled": true,
    "slideshow": {
     "slide_type": "slide"
    }
   },
   "outputs": [],
   "source": [
    "MAJ_SCALE = [0, 2, 4, 5, 7, 9, 11] # Мажор\n",
    "MIN_SCALE = [0, 2, 3, 5, 7, 8, 10] # Минор\n",
    "MAJ_PENTA_SCALE = [0, 2, 4, 7, 9] # Мажорная пентатоника\n",
    "MIN_PENTA_SCALE = [0, 3, 5, 7, 10] # Минорная пентатоника\n",
    "MAJ_BLUES_SCALE = [0, 2, 3, 4, 7, 9] # Мажорная блюзовая гамма\n",
    "MIN_BLUES_SCALE = [0, 3, 5, 6, 7, 10] # Минорная блюзовая гамма\n",
    "\n",
    "# Перевод смещения ноты от С-4, с учетом гаммы и транспонирования, в герцы\n",
    "def note2freq(offs, scale, trans=0):\n",
    "    note = scale[offs % len(scale)] + 12 * (offs // len(scale))\n",
    "    return midi2freq(60 + note + trans)\n",
    "\n",
    "def get_note(): # Случайная нота из пентатоники\n",
    "    n = random.randint(0, 11)\n",
    "    return note2freq(n, MIN_PENTA_SCALE)\n",
    "\n",
    "v1 = Voice(Sin(), Env())\n",
    "d1 = Delay(sec(0.5))\n",
    "out = []\n",
    "\n",
    "for i in range(100):\n",
    "    vol = random.randint(3, 10) * 0.1 # Громкость варьируется\n",
    "    out += d1.play(v1.play(get_note(), sec(0.3), sec(0.3), amp=vol), 0.3, 0.85)\n",
    "\n",
    "audio(out)"
   ]
  },
  {
   "cell_type": "markdown",
   "metadata": {
    "slideshow": {
     "slide_type": "slide"
    }
   },
   "source": [
    "# Некоторые ранние компьютерные композиции\n",
    "\n",
    "* *1956*. Песня \"Кнопка Берта\" (Push-Button Bertha), Мартин Кляйн (Martin Klein) и Дуглас Болито (Douglas Bolitho), компьютер Datatron.\n",
    "* *1957*. Произведение в 4 частях для струнного квартета \"Сюита Иллиака\" (Illiac Suite), Леджарен Хиллер (Lejaren Hiller), компьютер ILLIAC I. Помимо прочего, использовались марковские цепи.\n",
    "* *1959*. Одноголосые мелодии \"Уральские напевы\" Р. Зарипова, компьютер \"Урал\"."
   ]
  },
  {
   "cell_type": "markdown",
   "metadata": {
    "slideshow": {
     "slide_type": "slide"
    }
   },
   "source": [
    "# \"Кнопка Берта\"\n",
    "\n",
    "Случайный выбор нот по правилам, на основе анализа популярных песен (TOP 10 1956 года), среди которых:\n",
    "\n",
    "* Длина песни в пределах 35-60 нот.\n",
    "* Песня имеет структуру AABA.\n",
    "* A содержит 8 тактов и насчитывает 18-25 нот.\n",
    "* B содержит 8 тактов и насчитывает 17-35 нот.\n",
    "* Не более 5 нот в одном направлении.\n",
    "* Скачки более чем на 6 ступеней запрещены.\n",
    "\n",
    "<small>http://www.musicainformatica.org/topics/push-button-bertha.php</small>"
   ]
  },
  {
   "cell_type": "code",
   "execution_count": null,
   "metadata": {
    "slideshow": {
     "slide_type": "-"
    }
   },
   "outputs": [],
   "source": [
    "display(Audio(filename=\"mp3/bertha.mp3\"))"
   ]
  },
  {
   "cell_type": "markdown",
   "metadata": {
    "slideshow": {
     "slide_type": "slide"
    }
   },
   "source": [
    "# \"Уральские напевы\"\n",
    "\n",
    "* Порождение мелодий состоит из двух этапов: 1) выбор ритма пьесы, 2) выбор высот нот.\n",
    "* Мелодии имеют структуру ABA.\n",
    "* Каждая фраза мелодии заканчивается на одной из 3 основных ступеней лада.\n",
    "* Запрещены следующие подряд два широких интервала.\n",
    "* Не более 6 нот в одном направлении.\n",
    "* Диапазон нот содержит 2.5 октавы.\n",
    "\n",
    "<small>Р. Х. Зарипов, Об алгоритмическом описании процесса сочинения музыки, Докл. АН СССР, 1960,\n",
    "том 132, номер 6, 1283–1286</small>"
   ]
  },
  {
   "cell_type": "code",
   "execution_count": null,
   "metadata": {
    "scrolled": true
   },
   "outputs": [],
   "source": [
    "display(Audio(filename=\"mp3/ural.mp3\"))"
   ]
  },
  {
   "cell_type": "markdown",
   "metadata": {
    "slideshow": {
     "slide_type": "slide"
    }
   },
   "source": [
    "# Triadex Muse\n",
    "\n",
    "1972, алгоритмический секвенсер, Марвин Минский (Marvin Minsky) и Едвард Фредкин (Edward Fredkin). На основе счетчиков и 31-битного LFSR.\n",
    "\n",
    "<table>\n",
    "<tr>\n",
    "    <td><center><img src=\"img/muse1.jpg\" width=\"50%\"></img>\n",
    "    <td><center><img src=\"img/muse2.jpg\"></img>\n",
    "</table>\n"
   ]
  },
  {
   "cell_type": "code",
   "execution_count": null,
   "metadata": {
    "slideshow": {
     "slide_type": "slide"
    }
   },
   "outputs": [],
   "source": [
    "class Muse:\n",
    "    def __init__(self, interval, theme):\n",
    "        self.interval_sliders = interval\n",
    "        self.theme_sliders = theme\n",
    "        self.rows = [0, 1] + [0] * 38\n",
    "        self.scale = parse_track(\"c-3 d-3 e-3 f-3 g-3 a-3 b-3 c-4 c-4 d-4 e-4 f-4 g-4 a-4 b-4 c-5\")\n",
    "        self.clock = 1\n",
    "    \n",
    "    def get_freq(self):\n",
    "        values = [self.rows[i] for i in self.interval_sliders]\n",
    "        return self.scale[sum([x * 2**i for i, x in enumerate(values)])]\n",
    "\n",
    "    def update_lfsr(self):\n",
    "        xor = sum([self.rows[i] for i in self.theme_sliders]) % 2\n",
    "        self.rows = self.rows[:9] + [xor ^ 1] + self.rows[9:-1]\n",
    "    \n",
    "    def pulse(self):\n",
    "        self.clock += 1\n",
    "        self.rows[2] = self.clock & 1\n",
    "        self.rows[3] ^= int(self.clock % 2 == 0)\n",
    "        self.rows[4] ^= int(self.clock % 4 == 0)\n",
    "        self.rows[5] ^= int(self.clock % 8 == 0)\n",
    "        self.rows[6] ^= int(self.clock % 16 == 0)\n",
    "        self.rows[7] ^= int(self.clock % 6 == 0)\n",
    "        self.rows[8] ^= int(self.clock % 12 == 0)\n",
    "        if self.rows[2] == 0:\n",
    "            self.update_lfsr()"
   ]
  },
  {
   "cell_type": "code",
   "execution_count": null,
   "metadata": {
    "slideshow": {
     "slide_type": "slide"
    }
   },
   "outputs": [],
   "source": [
    "m = Muse([15, 16, 13, 0], [0, 12, 31, 0])\n",
    "#m = Muse([18, 16, 15, 0], [1, 5, 9, 10])\n",
    "#m = Muse([3, 9, 39, 6], [0, 0, 9, 39])\n",
    "#m = Muse([9, 10, 5, 6], [0, 0, 39, 5])\n",
    "\n",
    "tempo = sec(0.1)\n",
    "v1 = Voice(Sin(), Env())\n",
    "d1 = Delay(sec(0.5))\n",
    "freq = None\n",
    "out = []\n",
    "\n",
    "for i in range(200):\n",
    "    new_freq = m.get_freq() * 4\n",
    "    if new_freq == freq:\n",
    "        new_freq = None\n",
    "    else:       \n",
    "        freq = new_freq\n",
    "    out += d1.play(v1.play(new_freq, sec(0.3), tempo), 0.4)\n",
    "    m.pulse()\n",
    "\n",
    "audio(out)"
   ]
  },
  {
   "cell_type": "code",
   "execution_count": null,
   "metadata": {
    "slideshow": {
     "slide_type": "slide"
    }
   },
   "outputs": [],
   "source": [
    "# Алгоритм MusiNum (1995), Lars Kindermann\n",
    "step = 1\n",
    "num = 0\n",
    "out = []\n",
    "\n",
    "for i in range(16):\n",
    "    print(format(i, \"04b\"), bin(num).count(\"1\"))\n",
    "    num += step"
   ]
  },
  {
   "cell_type": "code",
   "execution_count": null,
   "metadata": {
    "slideshow": {
     "slide_type": "slide"
    }
   },
   "outputs": [],
   "source": [
    "step = 63 # Шаг задает номер \"композиции\"\n",
    "num = 1\n",
    "tempo = sec(0.12)\n",
    "v1 = Voice(LFSR(4, [3, 0]), Env(0.01))\n",
    "d1 = Delay(sec(0.1))\n",
    "f1 = LP1()\n",
    "f2 = LP1()\n",
    "out = []\n",
    "\n",
    "for i in range(200): # Алгоритм MusiNum в действии\n",
    "    freq = note2freq(bin(num).count(\"1\"), MAJ_SCALE, 24)\n",
    "    p = v1.play(freq, tempo, tempo, amp=1 if i % 4 == 0 else 0.7)\n",
    "    out += d1.play(f1.play(f2.play(p, 0.4), 0.4), 0.35, 0.7)\n",
    "    num += step\n",
    "\n",
    "audio(out)"
   ]
  },
  {
   "cell_type": "code",
   "execution_count": null,
   "metadata": {
    "slideshow": {
     "slide_type": "slide"
    }
   },
   "outputs": [],
   "source": [
    "# Фрактальный генератор мелодий\n",
    "def similar(data, rule, times): # Порождение мелодии из исходных данных по правилу rule, times итераций\n",
    "    for i in range(times):\n",
    "        new = []\n",
    "        for x in data:\n",
    "            new += [x + offs for offs in rule] # замена очередной ноты по правилу\n",
    "        data = new\n",
    "    return data\n",
    "\n",
    "rule = [0, 1]\n",
    "\n",
    "for i in range(6):\n",
    "    print(\" \".join(str(x) for x in similar([0], rule, i)))"
   ]
  },
  {
   "cell_type": "code",
   "execution_count": null,
   "metadata": {
    "slideshow": {
     "slide_type": "slide"
    }
   },
   "outputs": [],
   "source": [
    "#rule = [0, 1]\n",
    "rule = [0, 1, -1, 0]\n",
    "#rule = [-2, 7, -7, 2]\n",
    "#rule = [0, 2, 4, -7]\n",
    "\n",
    "notes = similar([0], rule, 4)\n",
    "v1 = Voice(FMSquare(), Env(0.01))\n",
    "d1 = Delay(sec(0.1))\n",
    "tempo = sec(0.12); out = []\n",
    "\n",
    "for n in notes:\n",
    "    freq = note2freq(n, MAJ_SCALE, 12)\n",
    "    out += d1.play(v1.play(freq, tempo, tempo), 0.25, 0.8)\n",
    "\n",
    "show2(rule, notes[:len(rule) * 30]); audio(out)"
   ]
  },
  {
   "cell_type": "code",
   "execution_count": null,
   "metadata": {
    "slideshow": {
     "slide_type": "slide"
    }
   },
   "outputs": [],
   "source": [
    "# Вероятностные барабаны\n",
    "kick_break = [\n",
    "    10, 0.4, None, None, 0.7, None, 0.8, None,\n",
    "    None, None, None, None, 0.9, None, None, None,\n",
    "    0.9, None, None, None, 0.9, None, 0.9, None,\n",
    "    None, None, 0.9, None, 0.6, None, None, None\n",
    "]\n",
    "snare_break = [\n",
    "    None, None, None, None, None, None, None, None,\n",
    "    0.8, None, 0.7, None, None, None, 0.7, None,\n",
    "    None, None, 0.7, None, None, None, None, None,\n",
    "    0.7, None, 0.7, None, None, None, None, None\n",
    "]\n",
    "hat_break = [SR, None, SR, None] * 8\n",
    "\n",
    "tempo = sec(1/16)\n",
    "v1 = Kick_voice()\n",
    "v2 = Snare_voice()\n",
    "v3 = Voice(LFSR(12, [10, 9, 1, 2, 3, 11]), Env())\n",
    "d1 = Delay(sec(0.1))\n",
    "out = []\n",
    "\n",
    "for j in range(4): # Простое воспроизведение\n",
    "    for i in range(len(kick_break)):\n",
    "        p1 = v1.play(kick_break[i], tempo)\n",
    "        p2 = v2.play(snare_break[i], tempo)\n",
    "        p3 = v3.play(hat_break[i], sec(0.02), tempo, amp=0.4)\n",
    "        out += mix(p1, d1.play(p2, 0.1), p3)\n",
    "\n",
    "audio(out)"
   ]
  },
  {
   "cell_type": "code",
   "execution_count": null,
   "metadata": {
    "scrolled": true,
    "slideshow": {
     "slide_type": "slide"
    }
   },
   "outputs": [],
   "source": [
    "tempo = sec(1/16)\n",
    "v1 = Kick_voice()\n",
    "v2 = Snare_voice()\n",
    "v3 = Voice(LFSR(12, [10, 9, 1, 2, 3, 11]), Env())\n",
    "d1 = Delay(sec(0.1))\n",
    "out = []\n",
    "busy = 0.8\n",
    "\n",
    "for j in range(8): # Барабанные вариации\n",
    "    for i in range(len(kick_break)):\n",
    "        is_kick = kick_break[i] is not None and random.random() < kick_break[i] * busy\n",
    "        is_snare = snare_break[i] is not None and random.random() < snare_break[i] * busy\n",
    "        is_hat = (hat_break[i] is not None) and (not is_kick and not is_snare)\n",
    "        p1 = v1.play(kick_break[i] if is_kick else None, tempo)\n",
    "        p2 = v2.play(snare_break[i] if is_snare else None, tempo)\n",
    "        p3 = v3.play(hat_break[i] if is_hat else None, sec(0.02), tempo, amp=0.4)\n",
    "        out += mix(p1, d1.play(p2, 0.1), p3)\n",
    "\n",
    "audio(out)       \n",
    "scipy.io.wavfile.write(\"drums2.wav\", SR, np.array(out))"
   ]
  },
  {
   "cell_type": "code",
   "execution_count": null,
   "metadata": {
    "slideshow": {
     "slide_type": "slide"
    }
   },
   "outputs": [],
   "source": [
    "# Порождение ритма в духе \"Уральских напевов\"\n",
    "def make_bar(size, durations): # Заполнение такта длительностями из durations\n",
    "    bar = []\n",
    "    while sum(bar) < size:\n",
    "        d = random.choice(durations)\n",
    "        if sum(bar) + sum(d) <= size:\n",
    "            bar += d\n",
    "    return bar\n",
    "\n",
    "def next_note(note, intervals, note_range): # Выбор очередной ноты, случайное блуждание\n",
    "    while True: \n",
    "        ivals, iprobs, idir = intervals\n",
    "        direction = 2 * int(random.random() < idir) - 1\n",
    "        new_note = note + random.choices(ivals, iprobs)[0] * direction\n",
    "        if new_note in range(note_range):\n",
    "            return new_note"
   ]
  },
  {
   "cell_type": "code",
   "execution_count": null,
   "metadata": {
    "slideshow": {
     "slide_type": "slide"
    }
   },
   "outputs": [],
   "source": [
    "# Сравнение контуров мелодий при случайном выборе нот и с помощью next_note()\n",
    "intervals = [\n",
    "    [1, 2, 3, 4, 5, 6, 7], # Интервалы\n",
    "    [1, 0, 0, 0, 0, 0, 0], # Вероятность появления интервала\n",
    "    0.5 # Вероятность движения мелодии вверх\n",
    "]\n",
    "\n",
    "out = []\n",
    "note = 0\n",
    "\n",
    "for i in range(100):\n",
    "    note = next_note(note, intervals, 12)\n",
    "    out.append(note)\n",
    "\n",
    "show2([random.randint(0, 11) for i in range(100)], out)"
   ]
  },
  {
   "cell_type": "code",
   "execution_count": null,
   "metadata": {
    "slideshow": {
     "slide_type": "slide"
    }
   },
   "outputs": [],
   "source": [
    "# Алгоритмический фанк\n",
    "intervals = [\n",
    "    [1, 2, 3, 4, 5, 6],\n",
    "    [0.5, 0.4, 0.03, 0.03, 0.03, 0.01],\n",
    "    0.6\n",
    "]\n",
    "\n",
    "# Набор длительностей для построения такта\n",
    "durations = [[1/4], [1/2], [1/8, 1/8], [1/4 + 1/8, 1/8], [1/16, 1/16], [1/8 + 1/16, 1/16]]\n",
    "\n",
    "v1 = Voice(LFSR(4, [3, 0]), Env())\n",
    "out = []\n",
    "note = 0\n",
    "\n",
    "for i in range(8):\n",
    "    part = []\n",
    "    ab = make_bar(4/4, durations) + make_bar(4/4, durations)\n",
    "    for dur in ab:\n",
    "        note = next_note(note, intervals, 12)\n",
    "        part += v1.play(note2freq(note, MAJ_BLUES_SCALE, 12), sec(dur) * 1.2, sec(dur) * 2)\n",
    "    out += part * 2\n",
    "\n",
    "fs, drums = scipy.io.wavfile.read(\"drums2.wav\")\n",
    "drums = list(drums) * (1 + len(out) // len(drums))\n",
    "audio(mix(drums[:len(out)], out))"
   ]
  },
  {
   "cell_type": "markdown",
   "metadata": {
    "slideshow": {
     "slide_type": "slide"
    }
   },
   "source": [
    "# Riffology\n",
    "\n",
    "1982, песня Song of the Grid для игры BallBlazer (Atari 400/800), Питер Лэнгстон (Peter Langston), LuscasFilm Games.\n",
    "\n",
    "Алгоритмическая соло-партия порождается на основе случайного выбора из набора риффов. Очередной рифф выбирается с учетом завершающей ноты предыдущего риффа.\n",
    "\n",
    "<small>http://www.langston.com/Papers/amc.pdf</small>"
   ]
  },
  {
   "cell_type": "code",
   "execution_count": null,
   "metadata": {},
   "outputs": [],
   "source": [
    "display(Audio(filename=\"mp3/ballblazer.mp3\"))"
   ]
  },
  {
   "cell_type": "markdown",
   "metadata": {
    "slideshow": {
     "slide_type": "slide"
    }
   },
   "source": [
    "# Генератор соло-партий из гитарного самоучителя\n",
    "\n",
    "2000, Музыкальное и аппликатурное мышление гитариста, C. Попов.\n",
    "\n",
    "<table>\n",
    "<tr>\n",
    "    <td><center><img src=\"img/popov1.png\"></img>\n",
    "    <td><center><img src=\"img/popov2.png\"></img>\n",
    "</table>\n"
   ]
  },
  {
   "cell_type": "code",
   "execution_count": null,
   "metadata": {
    "scrolled": true,
    "slideshow": {
     "slide_type": "slide"
    }
   },
   "outputs": [],
   "source": [
    "# 7 ступеней, 49 риффов\n",
    "def split_by(lst, n): return [lst[i: i + n] for i in range(0, len(lst), n)]\n",
    "\n",
    "riffs = [split_by(load_track(\"txt/riff%i.txt\" % i), 9) for i in range(1, 8)]\n",
    "\n",
    "v1 = Voice(LFSR(4, [3, 0]), Env())\n",
    "d1 = Delay(sec(0.1))\n",
    "f1 = LP1()\n",
    "tempo = sec(1/8)\n",
    "out = []\n",
    "row = random.randint(0, len(riffs) - 1)\n",
    "\n",
    "for i in range(32):\n",
    "    col = random.randint(0, len(riffs) - 1) # Выбор нового риффа\n",
    "    riff = riffs[row][col]\n",
    "    row = col # Выбор ступени\n",
    "    dur = tempo if random.random() < 0.7 else tempo * 2\n",
    "    for freq in riff[:-1]: # Последняя нота риффа заменяется первой нотой нового риффа\n",
    "        out += d1.play(f1.play(v1.play(freq * 4, dur * 1.2, dur), 0.25), 0.2, 0.7)\n",
    "\n",
    "fs, drums = scipy.io.wavfile.read(\"drums1.wav\")\n",
    "drums = list(drums) * (1 + len(out) // len(drums))\n",
    "audio(mix(drums[:len(out)], out))"
   ]
  },
  {
   "cell_type": "code",
   "execution_count": null,
   "metadata": {
    "slideshow": {
     "slide_type": "slide"
    }
   },
   "outputs": [],
   "source": [
    "# Однострочные алгоритмические композиции\n",
    "#def f(t): return t * (t >> 11) * t / 3\n",
    "#def f(t): return div(t, (t & (t >> 12)))\n",
    "def f(t): return (div(t, ( t >> 16 | t >> 8)) & (( t >> 5 | t >> 11))) -1 | t * (( t >> 16 | t >> 8))\n",
    "#def f(t): return t * ((t >> 12 | t >> 8) & 63 & t >> 4)\n",
    "#def f(t): return t >> 3 | t << 2 & t | int(t + 5e3) >> 4 | t - 14 >> 5\n",
    "#def f(t): return (t & t // 170 * 2) + t % 31 * 0.1\n",
    "#def f(t): return t << 1 >> 1 ^ t * 3 | t >> 5 | t >> 3\n",
    "#def f(t): return t * 9 & t >> 4 | t * 5 & t >> 7 | t * 3 & t // 1024\n",
    "\n",
    "def div(a, b): return 0 if b == 0 else a // b\n",
    "\n",
    "out = [int(f(t)) & 0xff for t in range(sec(5))]\n",
    "display(Audio(out, rate=8000))"
   ]
  }
 ],
 "metadata": {
  "celltoolbar": "Slideshow",
  "kernelspec": {
   "display_name": "Python 3",
   "language": "python",
   "name": "python3"
  },
  "language_info": {
   "codemirror_mode": {
    "name": "ipython",
    "version": 3
   },
   "file_extension": ".py",
   "mimetype": "text/x-python",
   "name": "python",
   "nbconvert_exporter": "python",
   "pygments_lexer": "ipython3",
   "version": "3.7.3"
  }
 },
 "nbformat": 4,
 "nbformat_minor": 2
}
