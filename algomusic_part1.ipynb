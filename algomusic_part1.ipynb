{
 "cells": [
  {
   "cell_type": "code",
   "execution_count": null,
   "metadata": {
    "slideshow": {
     "slide_type": "skip"
    }
   },
   "outputs": [],
   "source": [
    "import math\n",
    "import random\n",
    "import struct\n",
    "import matplotlib.pyplot as plt\n",
    "from IPython.display import Audio, display\n",
    "import numpy as np\n",
    "import scipy.io.wavfile\n",
    "\n",
    "SR = 48000\n",
    "\n",
    "def show(data):\n",
    "    plt.plot(range(len(data)), data)\n",
    "    plt.show()\n",
    "\n",
    "def audio(data): display(Audio(data, rate=SR))\n",
    "\n",
    "def nplog10(x): return np.log10(x.clip(min=1e-30))\n",
    "\n",
    "def get_fft_xy(data):\n",
    "    x = np.fft.rfftfreq(len(data), d=1 / SR)\n",
    "    y = 20 * nplog10(np.abs(np.fft.rfft(data)) / SR)\n",
    "    return x, y\n",
    "    \n",
    "def fft(data):\n",
    "    plt.plot(*get_fft_xy(data))\n",
    "    plt.ylim(-120, 0)\n",
    "    \n",
    "def show2(data1, data2):\n",
    "    fig, (ax1, ax2) = plt.subplots(1, 2)\n",
    "    fig.set_size_inches(12, 4, forward=True)\n",
    "    ax1.plot(range(len(data1)), data1)\n",
    "    ax2.plot(range(len(data2)), data2)\n",
    "    plt.show()\n",
    "\n",
    "def show21(data1, data2, data3):\n",
    "    fig, (ax1, ax2) = plt.subplots(1, 2)\n",
    "    fig.set_size_inches(12, 4, forward=True)\n",
    "    ax1.plot(range(len(data1)), data1)\n",
    "    ax1.plot(range(len(data2)), data2)\n",
    "    ax2.plot(range(len(data3)), data3)\n",
    "    plt.show()\n",
    "    \n",
    "def show_fft2(data1, data2):\n",
    "    fig, (ax1, ax2) = plt.subplots(1, 2)\n",
    "    fig.set_size_inches(12, 4, forward=True)\n",
    "    ax1.plot(*get_fft_xy(data1))\n",
    "    ax1.set_ylim([-120, 0])\n",
    "    ax2.plot(*get_fft_xy(data2))\n",
    "    ax2.set_ylim([-120, 0])\n",
    "    plt.show()"
   ]
  },
  {
   "cell_type": "markdown",
   "metadata": {
    "slideshow": {
     "slide_type": "slide"
    }
   },
   "source": [
    "# Простые приемы звукового синтеза и алгоритмической композиции на языке Питон\n",
    "\n",
    "*Пётр Советов*, МИРЭА\n",
    "\n",
    "Часть 1. **Синтез звука**\n",
    "\n",
    "Часть 2. Алгоритмическая композиция"
   ]
  },
  {
   "cell_type": "markdown",
   "metadata": {
    "slideshow": {
     "slide_type": "slide"
    }
   },
   "source": [
    "# Где сегодня используется процедурное аудио/алгоритмическая музыка?\n",
    "\n",
    "* Создание звуковых эффектов, звукового фона в играх и в кино.\n",
    "* Динамическая музыка в играх.\n",
    "* Генеративная музыка: Брайан Ино, Autechre, Бьорк.\n",
    "* Демосцена, low-complexity art.\n",
    "\n",
    "<center><img src=\"img/scape.png\" width=\"30%\"></img></center>\n"
   ]
  },
  {
   "cell_type": "markdown",
   "metadata": {
    "slideshow": {
     "slide_type": "slide"
    }
   },
   "source": [
    "# Из истории компьютерного звука"
   ]
  },
  {
   "cell_type": "markdown",
   "metadata": {
    "slideshow": {
     "slide_type": "slide"
    }
   },
   "source": [
    "## Однобитный звук в реальном времени\n",
    "\n",
    "* *1951*. Прямое управление динамиком в реальном времени через однобитный порт, Джефф Хилл (Geoff Hill), компьютер CSIRAC.\n",
    "* *1962*. Имитация полифонического звучания с помощью чередования голосов, Питер Сэмсон (Peter Samson), компьютер PDP-1.\n",
    "* *1987*. Пять и более голосов с синтезом тембров, Тим Фоллин (Tim Follin) и другие, компьютер ZX Spectrum.\n",
    "<img src=\"img/beeper.png\" width=\"10%\"></img>"
   ]
  },
  {
   "cell_type": "code",
   "execution_count": null,
   "metadata": {},
   "outputs": [],
   "source": [
    "display(Audio(filename=\"mp3/chronos.mp3\"))"
   ]
  },
  {
   "cell_type": "markdown",
   "metadata": {
    "slideshow": {
     "slide_type": "slide"
    }
   },
   "source": [
    "## Синтез звука в пакетном режиме\n",
    "\n",
    "* *1957*. Порождение треугольной волны с записью на магнитную ленту и последующим вопроизведением через 12-битный ЦАП, программа MUSIC-1, Макс Мэтьюс (Max Mathews), компьютер IBM 704.\n",
    "* *1967*. Изобретение FM-синтеза, Джон Чоунинг (John Chowning).\n",
    "* *1968*. Язык звукового синтеза MUSIC V, книга The Technology of Computer Music (1969), Макс Мэтьюс (Max Mathews).\n",
    "<center>\n",
    "<img src=\"img/musicv.png\" width=\"30%\"></img>MUSIC V\n",
    "</center>"
   ]
  },
  {
   "cell_type": "markdown",
   "metadata": {
    "slideshow": {
     "slide_type": "slide"
    }
   },
   "source": [
    "## Цифровые синтезаторы\n",
    "\n",
    "* *1976*. Аддитивный синтезатор Bell Labs Digital Synthesizer (Alles Synth, \"синтезатор Аллеса\"), Хэл Аллес (Hal Alles), Bell Labs, 32 голоса.\n",
    "* *1977*. Синтезатор Samson Box, Питер Сэмсон (Peter Samson), аддитивный, FM- и другие виды синтеза, Stanford, 256 генераторов звука, 16 голосов.\n",
    "* *1982*. Синтезатор Audio Signal Processor (ASP), Джеймс Мурер (James A. Moorer), LucasFilm.\n",
    "\n",
    "<table>\n",
    "<tr>\n",
    "    <td width=\"50%\"><center><img src=\"img/alles.png\" width=\"50%\"></img><b>Alles Synth</b></center>\n",
    "    <td><center><img src=\"img/samson.png\" width=\"30%\"></img><b>Samson Box</b></center>\n",
    "</table>\n",
    "\n"
   ]
  },
  {
   "cell_type": "code",
   "execution_count": null,
   "metadata": {},
   "outputs": [],
   "source": [
    "display(Audio(filename=\"mp3/thx.mp3\"))"
   ]
  },
  {
   "cell_type": "markdown",
   "metadata": {
    "slideshow": {
     "slide_type": "slide"
    }
   },
   "source": [
    "## Звуковые чипы: прямоугольник вместо синусоиды\n",
    "\n",
    "* *1977*. Atari TIA (Atari 2600,...), 2 голоса (**прямоугольная** форма волны).`\n",
    "* *1979*. TI SN76489 (TI-99/4A, BBC Micro,...), 4 голоса (**прямоугольная** форма волны, шум).\n",
    "* *1979*. Atari POKEY (Atari 8-bit,...), 4 голоса (**прямоугольная** форма волны, шум).\n",
    "* *1979*. GI AY-38910 (ZX Spectrum, Yamaha MSX,...), 3 голоса (**прямоугольная** форма волны, шум).\n",
    "* *1982*. MOS 6581 SID (Commodore C64), 3 голоса (**прямоугольная**/пилообразная/треугольная формы волны, шум, фильтр).\n",
    "* *1984*. Ricoh 2A03 (Famicom/NES), 5 голосов (**прямоугольная**/треугольная формы волны, шум, проигрывание 7-битных сэмплов)."
   ]
  },
  {
   "cell_type": "markdown",
   "metadata": {
    "slideshow": {
     "slide_type": "slide"
    }
   },
   "source": [
    "# Практика\n",
    "Для синтеза звука будем использовать пакетный режим работы и тембры классических звуковых чипов."
   ]
  },
  {
   "cell_type": "code",
   "execution_count": null,
   "metadata": {
    "slideshow": {
     "slide_type": "slide"
    }
   },
   "outputs": [],
   "source": [
    "def sec(n): return int(n * SR) # Секунды в кол-во сэмплов, SR - частота дискретизации\n",
    "\n",
    "class Square: # Генератор прямоугольной формы волны\n",
    "    def __init__(self):\n",
    "        self.phase = 0 # Фаза изменяется в пределах [0, 1)\n",
    "       \n",
    "    def next(self, freq, width=0.5): # next выдает очередной сэмпл\n",
    "        # width задает ширину импульса (0.5 - центр периода)\n",
    "        y = 2 * int(self.phase < width) - 1 # Значение в {-1, 1}\n",
    "        self.phase = (self.phase + freq / SR) % 1\n",
    "        return y\n",
    "\n",
    "o1 = Square() # Сравнение звучания для разных значений ширины импульса\n",
    "o2 = Square()\n",
    "out1 = [o1.next(400, 0.5) for i in range(sec(1))]   \n",
    "out2 = [o2.next(400, 0.1) for i in range(sec(1))]   \n",
    "show2(out1[:sec(0.01)], out2[:sec(0.01)]); audio(out1)"
   ]
  },
  {
   "cell_type": "code",
   "execution_count": null,
   "metadata": {
    "slideshow": {
     "slide_type": "slide"
    }
   },
   "outputs": [],
   "source": [
    "class Saw: # Простой генератор пилообразного сигнала\n",
    "    def __init__(self):\n",
    "        self.phase = 0\n",
    "       \n",
    "    def next(self, freq):\n",
    "        y = 2 * self.phase - 1\n",
    "        self.phase = (self.phase + freq / SR) % 1\n",
    "        return y\n",
    "\n",
    "o1 = Saw()\n",
    "out = [o1.next(400) for i in range(sec(1))]\n",
    "audio(out)\n",
    "show(out[:sec(0.01)])"
   ]
  },
  {
   "cell_type": "code",
   "execution_count": null,
   "metadata": {
    "slideshow": {
     "slide_type": "slide"
    }
   },
   "outputs": [],
   "source": [
    "class Env: # Генератор огибающей с параметрами: время атаки и время затухания\n",
    "    def __init__(self, attack_time=sec(0.0001)): # attack_time - время нарастания звука\n",
    "        self.time = 0\n",
    "        self.attack_time = attack_time\n",
    "        self.amp = 0\n",
    "\n",
    "    def reset(self): # Нажата новая нота, сброс состояния генератора\n",
    "        self.time = 0\n",
    "\n",
    "    def next(self, decay_time): # decay_time - время затухания\n",
    "        if self.time < self.attack_time:\n",
    "            self.amp = min(self.amp + 1 / self.attack_time, 1)\n",
    "        else:\n",
    "            self.amp = max(self.amp - 1 / decay_time, 0)            \n",
    "        self.time += 1\n",
    "        return self.amp"
   ]
  },
  {
   "cell_type": "code",
   "execution_count": null,
   "metadata": {
    "slideshow": {
     "slide_type": "slide"
    }
   },
   "outputs": [],
   "source": [
    "# Демонстрация работы огибающей\n",
    "o1 = Square()\n",
    "attack = 0.1\n",
    "decay = 0.7\n",
    "e1 = Env(sec(attack))\n",
    "out1 = [e1.next(sec(decay)) for i in range(sec(1))]\n",
    "e1.reset()\n",
    "out2 = [e1.next(sec(decay)) * o1.next(20) for i in range(sec(1))]\n",
    "e1.reset()\n",
    "out3 = [e1.next(sec(decay)) * o1.next(200) for i in range(sec(1))]\n",
    "show2(out1, out2)\n",
    "audio(out3)"
   ]
  },
  {
   "cell_type": "code",
   "execution_count": null,
   "metadata": {
    "scrolled": false,
    "slideshow": {
     "slide_type": "slide"
    }
   },
   "outputs": [],
   "source": [
    "# Явление наложения частот (aliasing)\n",
    "o1 = Square()\n",
    "out1 = [o1.next(480) for i in range(sec(1))]\n",
    "out2 = [o1.next(485) for i in range(sec(1))]\n",
    "show_fft2(out1, out2)\n",
    "audio(out1)\n",
    "audio(out2)"
   ]
  },
  {
   "cell_type": "markdown",
   "metadata": {
    "slideshow": {
     "slide_type": "slide"
    }
   },
   "source": [
    "# В решении проблем с наложением частот поможет FM-синтез\n",
    "<center><img src=\"img/fm.png\" width=\"10%\"></img></center>"
   ]
  },
  {
   "cell_type": "code",
   "execution_count": null,
   "metadata": {
    "slideshow": {
     "slide_type": "slide"
    }
   },
   "outputs": [],
   "source": [
    "# FM-синтез\n",
    "class Sin: # Генератор синусоидального сигнала\n",
    "    def __init__(self):\n",
    "        self.phase = 0\n",
    "       \n",
    "    def next(self, freq, pm=0): # pm задает фазовую модуляцию\n",
    "        y = math.sin(self.phase + pm)\n",
    "        self.phase = (self.phase + 2 * math.pi * freq / SR) % (2 * math.pi)\n",
    "        return y\n",
    "\n",
    "o1 = Sin()\n",
    "o2 = Sin()\n",
    "e1 = Env()\n",
    "out = []\n",
    "\n",
    "for i in range(sec(1)): # Синтез тембра колокола\n",
    "    out.append(o2.next(200, 5 * o1.next(700) * e1.next(sec(1))))\n",
    "\n",
    "audio(out)"
   ]
  },
  {
   "cell_type": "code",
   "execution_count": null,
   "metadata": {
    "scrolled": false,
    "slideshow": {
     "slide_type": "slide"
    }
   },
   "outputs": [],
   "source": [
    "o1 = Saw() # Трюк с получением прямоугольного сигнала (понадобится далее)\n",
    "o2 = Saw() # в виде разности 2 пилообразных сигналов\n",
    "o2.phase = 0.5\n",
    "out1 = [o1.next(2) for i in range(sec(1))]\n",
    "out2 = [o2.next(2) for i in range(sec(1))]\n",
    "out3 = [a - b for a, b in zip(out1, out2)]\n",
    "show21(out1, out2, out3)"
   ]
  },
  {
   "cell_type": "code",
   "execution_count": null,
   "metadata": {
    "slideshow": {
     "slide_type": "slide"
    }
   },
   "outputs": [],
   "source": [
    "class FMSaw: # Синтез пилообразного синала с помощью FM и обратной связи\n",
    "    def __init__(self):\n",
    "        self.op = Sin()\n",
    "        self.fb = 0\n",
    "       \n",
    "    def next(self, freq, cutoff=1.8): # cutoff работает подобно частоте среза в фильтрах\n",
    "        self.fb = self.op.next(freq, self.fb * cutoff)\n",
    "        return self.fb\n",
    "\n",
    "o1 = Saw() # Сравнение звучания простой \"пилы\" и ее FM-версии\n",
    "o2 = FMSaw()\n",
    "audio([o1.next(507) for i in range(sec(1))])\n",
    "audio([o2.next(507) for i in range(sec(1))])"
   ]
  },
  {
   "cell_type": "code",
   "execution_count": null,
   "metadata": {
    "slideshow": {
     "slide_type": "slide"
    }
   },
   "outputs": [],
   "source": [
    "class FMSquare: # \"FM-прямоугольник\",\n",
    "    def __init__(self): # используется трюк с разностью 2 пилообразных сигналов\n",
    "        self.op1 = Sin()\n",
    "        self.op2 = Sin()\n",
    "        self.op2.phase = math.pi\n",
    "        self.fb1 = 0\n",
    "        self.fb2 = 0\n",
    "       \n",
    "    def next(self, freq, cutoff=1.5, width=0):\n",
    "        self.fb1 = self.op1.next(freq, self.fb1 * cutoff)\n",
    "        self.fb2 = self.op2.next(freq, self.fb2 * cutoff + width)\n",
    "        return self.fb1 - self.fb2\n",
    "    \n",
    "o1 = Square() # Сравнение звучания простого \"прямоугольника\" и его FM-версии \n",
    "o2 = FMSquare()\n",
    "audio([o1.next(507) for i in range(sec(1))])\n",
    "audio([o2.next(507) for i in range(sec(1))])"
   ]
  },
  {
   "cell_type": "code",
   "execution_count": null,
   "metadata": {
    "slideshow": {
     "slide_type": "slide"
    }
   },
   "outputs": [],
   "source": [
    "o1 = Square() # Сравнение спектров простого \"прямоугольника\" и его FM-версии\n",
    "o2 = FMSquare()\n",
    "out1 = [o1.next(507) for i in range(sec(1))]\n",
    "out2 = [o2.next(507) for i in range(sec(1))]\n",
    "show_fft2(out1, out2)"
   ]
  },
  {
   "cell_type": "code",
   "execution_count": null,
   "metadata": {
    "scrolled": true,
    "slideshow": {
     "slide_type": "slide"
    }
   },
   "outputs": [],
   "source": [
    "o1 = FMSquare() # Имитация SID-звучания\n",
    "o2 = Sin() # Модуляция ширины импульса\n",
    "out = [o1.next(500, width=o2.next(1.5) * 3) for i in range(sec(2))]\n",
    "show(out)\n",
    "audio(out)"
   ]
  },
  {
   "cell_type": "code",
   "execution_count": null,
   "metadata": {
    "slideshow": {
     "slide_type": "slide"
    }
   },
   "outputs": [],
   "source": [
    "class Voice: # Голос с параметрами: осциллятор и огибающая\n",
    "    def __init__(self, osc, env):\n",
    "        self.osc = osc\n",
    "        self.env = env\n",
    "        self.reset(0, 0)\n",
    "\n",
    "    def reset(self, freq, amp): # None обозначает продолжание звучания\n",
    "        if freq is not None:\n",
    "            self.env.reset()\n",
    "            self.freq = freq\n",
    "            self.amp = amp\n",
    "    \n",
    "    # on_time - время нажатой \"клавиши\", play_time - общее время звучания голоса\n",
    "    def play(self, freq, on_time, play_time, amp=1):\n",
    "        samples = []\n",
    "        self.reset(freq, amp)\n",
    "        for i in range(play_time):\n",
    "            vol = self.amp * self.env.next(on_time)\n",
    "            samples.append(vol * self.osc.next(self.freq))\n",
    "        return samples"
   ]
  },
  {
   "cell_type": "code",
   "execution_count": null,
   "metadata": {
    "slideshow": {
     "slide_type": "slide"
    }
   },
   "outputs": [],
   "source": [
    "def midi2freq(m): # Перевод MIDI-значения [0-127] в герцы\n",
    "    return 440 * 2 ** ((m - 69) / 12)\n",
    "\n",
    "class SID_voice: # Имитация звучания SID\n",
    "    def __init__(self):\n",
    "        self.osc = FMSquare()\n",
    "        self.lfo = Sin()\n",
    "        self.env = Env()\n",
    "        self.reset(0, 0)\n",
    "        \n",
    "    reset = Voice.reset\n",
    "        \n",
    "    def play(self, freq, on_time, play_time, amp=1, pwm_freq=0.3, pwm_amp=3):\n",
    "        lst = []\n",
    "        self.reset(freq, amp)\n",
    "        for i in range(play_time):\n",
    "            pwm = self.lfo.next(pwm_freq) * pwm_amp\n",
    "            vol = self.amp * self.env.next(on_time)\n",
    "            lst.append(vol * self.osc.next(self.freq, width=pwm))\n",
    "        return lst\n",
    "\n",
    "v1 = SID_voice()\n",
    "out = []\n",
    "\n",
    "for i in range(13): # 12 нот звукоряда\n",
    "    out += v1.play(midi2freq(60 + i), sec(0.2), sec(0.4))\n",
    "\n",
    "audio(out)"
   ]
  },
  {
   "cell_type": "code",
   "execution_count": null,
   "metadata": {
    "slideshow": {
     "slide_type": "slide"
    }
   },
   "outputs": [],
   "source": [
    "# Чтение простого текстового формата, в духе музыкальных трекеров\n",
    "# Пример: \"D-3 ... C-3 ... === ... E-3 ...\"\n",
    "TRACK_NAMES = dict(zip(\"c- c# d- d# e- f- f# g- g# a- a# b-\".split(),\n",
    "                   range(12)))\n",
    "\n",
    "def name2freq(name, trans): # Имя ноты в духе \"С-4\" или \"d#5\"\n",
    "    n, o = name[:2].lower(), int(name[2])\n",
    "    return midi2freq(TRACK_NAMES[n] + 12 * (o + 1) + trans)\n",
    "\n",
    "# Перевод текста в список значений частота или None (удержание ноты)\n",
    "def parse_track(text, trans=0):\n",
    "    return [name2freq(x, trans) if x[0].isalpha() else\n",
    "            None for x in text.split()]\n",
    "\n",
    "def load_track(filename, trans=0): # Загрузить и разобрать текст\n",
    "    with open(filename) as f:\n",
    "        return parse_track(f.read(), trans)\n",
    "\n",
    "track1 = load_track(\"txt/bionic2.txt\", -24)\n",
    "v1 = Voice(FMSquare(), Env())\n",
    "out = []\n",
    "\n",
    "for f in track1: # Проигрывание изолированного голоса отрывка\n",
    "    out += v1.play(f, sec(0.2), sec(0.05))\n",
    "\n",
    "audio(out)"
   ]
  },
  {
   "cell_type": "code",
   "execution_count": null,
   "metadata": {
    "slideshow": {
     "slide_type": "slide"
    }
   },
   "outputs": [],
   "source": [
    "track1 = load_track(\"txt/bionic1.txt\", -24)\n",
    "track2 = load_track(\"txt/bionic2.txt\", -24)\n",
    "v1 = Voice(FMSquare(), Env())\n",
    "out = []\n",
    "alt = 2 # Количество переключений между голосами\n",
    "\n",
    "for i in range(len(track1)): # Прием с чередованием голосов\n",
    "    for j in range(alt):\n",
    "        out += v1.play(track1[i], sec(0.1), sec(0.03) // alt)\n",
    "        out += v1.play(track2[i], sec(0.1), sec(0.03) // alt)\n",
    "\n",
    "audio(out)"
   ]
  },
  {
   "cell_type": "code",
   "execution_count": null,
   "metadata": {
    "slideshow": {
     "slide_type": "slide"
    }
   },
   "outputs": [],
   "source": [
    "# Микширование нескольких голосов\n",
    "def mix(*tracks): return [sum(x) for x in zip(*tracks)]\n",
    "\n",
    "track1 = load_track(\"txt/bionic1.txt\", -24)\n",
    "track2 = load_track(\"txt/bionic2.txt\", -24)\n",
    "v1 = SID_voice()\n",
    "v2 = Voice(FMSquare(), Env())\n",
    "out = []\n",
    "\n",
    "for i in range(len(track1)): # Двухголосное исполнение отрывка\n",
    "    p1 = v1.play(track1[i], sec(2), sec(0.06))\n",
    "    p2 = v2.play(track2[i], sec(0.2), sec(0.06))\n",
    "    out += mix(p1, p2)      \n",
    "\n",
    "audio(out)"
   ]
  },
  {
   "cell_type": "markdown",
   "metadata": {
    "slideshow": {
     "slide_type": "slide"
    }
   },
   "source": [
    "# Эффект эхо (delay)\n",
    "<br>\n",
    "<center>\n",
    "<img src=\"img/delay.png\" width=\"50%\"></img>\n",
    "</center>"
   ]
  },
  {
   "cell_type": "code",
   "execution_count": null,
   "metadata": {
    "slideshow": {
     "slide_type": "slide"
    }
   },
   "outputs": [],
   "source": [
    "class Delay: # Эффект дилэй (\"эхо\")\n",
    "    def __init__(self, size):\n",
    "        self.line = [0] * size # Линия задержки размером size\n",
    "        self.idx = 0\n",
    "\n",
    "    # level - уровень эхо-сигнала, fb - уровень обратной связи\n",
    "    def play(self, samples, level, fb=0.5):\n",
    "        lst = []\n",
    "        for x in samples:\n",
    "            old = self.line[self.idx] # Самое старое значение из линии задержки\n",
    "            lst.append(x + old * level) # Выдача результата\n",
    "            self.line[self.idx] = old * fb + x # Обновленное значение в линии задержки\n",
    "            self.idx = (self.idx + 1) % len(self.line)\n",
    "        return lst\n",
    "\n",
    "track = load_track(\"txt/galaga.txt\")\n",
    "o1 = Voice(FMSquare(), Env())\n",
    "d1 = Delay(sec(0.16))\n",
    "out = []\n",
    "\n",
    "for f in track:\n",
    "    out += d1.play(o1.play(f, sec(0.4), sec(0.08)), 0.6, 0.6)\n",
    "\n",
    "audio(out)"
   ]
  },
  {
   "cell_type": "code",
   "execution_count": null,
   "metadata": {
    "slideshow": {
     "slide_type": "slide"
    }
   },
   "outputs": [],
   "source": [
    "track1 = load_track(\"txt/robocop.txt\", -12)\n",
    "v1 = Voice(FMSquare(), Env())\n",
    "d1 = Delay(sec(0.15))\n",
    "out = []\n",
    "\n",
    "for f in track1: # Еще один отрывок с эффектом дилей\n",
    "    out += d1.play(v1.play(f, sec(0.6), sec(0.06)), 0.5)\n",
    "\n",
    "audio(out)"
   ]
  },
  {
   "cell_type": "markdown",
   "metadata": {
    "slideshow": {
     "slide_type": "slide"
    }
   },
   "source": [
    "# Генератор шума в Atari POKEY\n",
    "\n",
    "<center>\n",
    "<img src=\"img/lfsr.png\" width=\"30%\"></img><b>Регистр сдвига с линейной обратной связью (LFSR)</b>\n",
    "</center>"
   ]
  },
  {
   "cell_type": "code",
   "execution_count": null,
   "metadata": {
    "scrolled": true,
    "slideshow": {
     "slide_type": "slide"
    }
   },
   "outputs": [],
   "source": [
    "class LFSR: # Генератор шума на основе регистра сдвига с линейной обратной связью\n",
    "    def __init__(self, bits, taps):\n",
    "        self.bits = bits # Разрядность регистра\n",
    "        self.taps = taps # Индексы для вычисления очередного бита\n",
    "        self.state = 1 # Состояние регистра\n",
    "        self.phase = 0\n",
    "    \n",
    "    def next(self, freq):\n",
    "        y = self.state & 1\n",
    "        self.phase += 2 * freq / SR\n",
    "        if self.phase > 1:\n",
    "            self.phase -= 1\n",
    "            # Xor значений по индексам бит taps\n",
    "            x = 0\n",
    "            for b in (self.state >> i for i in self.taps):\n",
    "                x ^= b\n",
    "            self.state = (self.state >> 1) | ((~x & 1) << (self.bits - 1))\n",
    "        return 2 * y - 1"
   ]
  },
  {
   "cell_type": "code",
   "execution_count": null,
   "metadata": {
    "scrolled": false,
    "slideshow": {
     "slide_type": "slide"
    }
   },
   "outputs": [],
   "source": [
    "o1 = LFSR(bits=5, taps=[3, 4, 0]) # Демонстрация периодичности формы сигнала\n",
    "out = [o1.next(500) for i in range(sec(1))]\n",
    "show(out[:sec(0.1)])\n",
    "audio(out)"
   ]
  },
  {
   "cell_type": "code",
   "execution_count": null,
   "metadata": {
    "slideshow": {
     "slide_type": "slide"
    }
   },
   "outputs": [],
   "source": [
    "# Характерный для Atari 8-bit тембр\n",
    "track = load_track(\"txt/mule.txt\", 24)\n",
    "v1 = Voice(LFSR(5, [3, 4, 0]), Env())       \n",
    "out = []\n",
    "\n",
    "for f in track:\n",
    "    out += v1.play(f, sec(0.3), sec(0.05))\n",
    "\n",
    "audio(out * 2)"
   ]
  },
  {
   "cell_type": "code",
   "execution_count": null,
   "metadata": {
    "slideshow": {
     "slide_type": "slide"
    }
   },
   "outputs": [],
   "source": [
    "slide = 0.11\n",
    "\n",
    "class Kick_voice: # Синтез бас-барабана\n",
    "    def __init__(self):\n",
    "        self.osc = FMSquare()\n",
    "        self.env = Env()\n",
    "        self.pitch_env = Env() # Частотная огибающая\n",
    "        self.amp = 0\n",
    "        \n",
    "    def reset(self, freq, amp):\n",
    "        if freq is not None:\n",
    "            self.env.reset()\n",
    "            self.pitch_env.reset()\n",
    "            self.amp = amp\n",
    "        \n",
    "    def play(self, freq, play_time, amp=1):\n",
    "        lst = []\n",
    "        self.reset(freq, amp)\n",
    "        for i in range(play_time):\n",
    "            vol = self.amp * self.env.next(sec(slide))\n",
    "            lst.append(vol * self.osc.next(180 * self.pitch_env.next(sec(slide))))\n",
    "        return lst\n",
    "\n",
    "v1 = Kick_voice()\n",
    "out = []\n",
    "\n",
    "for i in range(8):\n",
    "    out += v1.play(0, sec(1/2))\n",
    "\n",
    "audio(out)"
   ]
  },
  {
   "cell_type": "code",
   "execution_count": null,
   "metadata": {
    "slideshow": {
     "slide_type": "slide"
    }
   },
   "outputs": [],
   "source": [
    "class Snare_voice: # Синтез малого барабана\n",
    "    def __init__(self):\n",
    "        self.bass = FMSquare() # Басовая составляющая тембра\n",
    "        self.osc = LFSR(12, [7, 9, 1, 2, 3, 11]) # Высокочастотная составляющая\n",
    "        self.env = Env()\n",
    "        self.pitch_env = Env()\n",
    "        self.amp = 0\n",
    "        \n",
    "    def reset(self, freq, amp):\n",
    "        if freq is not None:\n",
    "            self.env.reset()\n",
    "            self.pitch_env.reset()\n",
    "            self.amp = amp\n",
    "        \n",
    "    def play(self, freq, play_time, amp=1):\n",
    "        lst = []\n",
    "        self.reset(freq, amp)\n",
    "        for i in range(play_time):\n",
    "            vol = self.amp * self.env.next(sec(0.1))\n",
    "            m = 0.5 * self.osc.next(16000 * self.pitch_env.next(sec(0.3)))\n",
    "            m += self.bass.next(320 * self.pitch_env.next(sec(0.4)))\n",
    "            lst.append(vol * m)\n",
    "        return lst"
   ]
  },
  {
   "cell_type": "code",
   "execution_count": null,
   "metadata": {
    "slideshow": {
     "slide_type": "slide"
    }
   },
   "outputs": [],
   "source": [
    "# Простая барабанная партия\n",
    "v1 = Kick_voice()\n",
    "v2 = Snare_voice()\n",
    "out = []\n",
    "\n",
    "for i in range(8):\n",
    "    out += v1.play(0, sec(1/8)) + v1.play(0, sec(1/8)) + v2.play(0, sec(1/4))\n",
    "\n",
    "audio(out)\n",
    "scipy.io.wavfile.write(\"drums1.wav\", SR, np.array(out))"
   ]
  },
  {
   "cell_type": "markdown",
   "metadata": {
    "slideshow": {
     "slide_type": "slide"
    }
   },
   "source": [
    "# Конец первой части"
   ]
  }
 ],
 "metadata": {
  "celltoolbar": "Slideshow",
  "kernelspec": {
   "display_name": "Python 3",
   "language": "python",
   "name": "python3"
  },
  "language_info": {
   "codemirror_mode": {
    "name": "ipython",
    "version": 3
   },
   "file_extension": ".py",
   "mimetype": "text/x-python",
   "name": "python",
   "nbconvert_exporter": "python",
   "pygments_lexer": "ipython3",
   "version": "3.7.3"
  }
 },
 "nbformat": 4,
 "nbformat_minor": 2
}
